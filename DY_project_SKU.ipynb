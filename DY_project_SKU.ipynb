{
 "cells": [
  {
   "cell_type": "markdown",
   "metadata": {},
   "source": [
    "# recommendation system using Word2Vec\n",
    "DY industry project (Y-Data 2019)"
   ]
  },
  {
   "cell_type": "code",
   "execution_count": 1,
   "metadata": {},
   "outputs": [],
   "source": [
    "import pandas as pd\n",
    "import numpy as np\n",
    "import random\n",
    "from tqdm import tqdm\n",
    "from gensim.models import Word2Vec \n",
    "import matplotlib.pyplot as plt\n",
    "%matplotlib inline\n",
    "import pickle\n",
    "import timeit\n",
    "\n",
    "import warnings\n",
    "warnings.filterwarnings('ignore')"
   ]
  },
  {
   "cell_type": "markdown",
   "metadata": {},
   "source": [
    "# input files\n",
    " + mapping of terms to actual coloumn names\n",
    " + df_full has all coloumns, just for info\n",
    " + df_raw has data from the following query:\n",
    "+\n",
    "SELECT sku, dyid, timestamp, groupid \n",
    "FROM \"ds_event\".\"ds_events_sephora_au\"\n",
    "WHERE sku IS NOT NULL\n",
    "ORDER BY timestamp DESC\n",
    "limit 10000000;\n",
    "+ timespan covered in raw_df:\n",
    "+ earliest timestamp = 2019-08-07 06:43:33.779\n",
    "+ most recent timestamp = 2020-02-18 22:59:48.758"
   ]
  },
  {
   "cell_type": "code",
   "execution_count": 2,
   "metadata": {},
   "outputs": [],
   "source": [
    "df_raw = pd.read_csv('test_events_new.csv')\n",
    "# df_full = pd.read_csv('test_events_big.csv')\n",
    "feed_df = pd.read_csv('section_feed.csv')\n",
    "itemID = 'sku'\n",
    "userID = 'dyid'\n",
    "description = 'name'\n",
    "timestamp = 'timestamp'"
   ]
  },
  {
   "cell_type": "code",
   "execution_count": 3,
   "metadata": {},
   "outputs": [
    {
     "data": {
      "text/plain": [
       "sku           1145\n",
       "name          1323\n",
       "url           1331\n",
       "price         3596\n",
       "in_stock      3596\n",
       "image_url     1393\n",
       "categories    1392\n",
       "dtype: int64"
      ]
     },
     "execution_count": 3,
     "metadata": {},
     "output_type": "execute_result"
    }
   ],
   "source": [
    "feed_df.isnull().sum()"
   ]
  },
  {
   "cell_type": "code",
   "execution_count": 4,
   "metadata": {},
   "outputs": [],
   "source": [
    "feed_df.dropna(subset = ['sku'], inplace=True)\n"
   ]
  },
  {
   "cell_type": "code",
   "execution_count": 5,
   "metadata": {},
   "outputs": [],
   "source": [
    "#df_raw.groupby(itemID).sku.value_counts().mean()"
   ]
  },
  {
   "cell_type": "code",
   "execution_count": 6,
   "metadata": {},
   "outputs": [],
   "source": [
    "# Mock data (in case we need it fo presentations)\n",
    "# df = pd.read_excel('Online Retail.xlsx')\n",
    "# itemID = 'StockCode'\n",
    "# userID = 'CustomerID'\n",
    "# description = 'Description'\n",
    "# timestamp = 'InvoiceDate'"
   ]
  },
  {
   "cell_type": "markdown",
   "metadata": {},
   "source": [
    "# basic EDA of raw_df\n",
    "+ null values\n",
    "+ duplictes"
   ]
  },
  {
   "cell_type": "code",
   "execution_count": 7,
   "metadata": {},
   "outputs": [
    {
     "name": "stdout",
     "output_type": "stream",
     "text": [
      "(10000000, 4) \n",
      " sku          object\n",
      "dyid          int64\n",
      "timestamp     int64\n",
      "groupid       int64\n",
      "dtype: object\n"
     ]
    },
    {
     "data": {
      "text/html": [
       "<div>\n",
       "<style scoped>\n",
       "    .dataframe tbody tr th:only-of-type {\n",
       "        vertical-align: middle;\n",
       "    }\n",
       "\n",
       "    .dataframe tbody tr th {\n",
       "        vertical-align: top;\n",
       "    }\n",
       "\n",
       "    .dataframe thead th {\n",
       "        text-align: right;\n",
       "    }\n",
       "</style>\n",
       "<table border=\"1\" class=\"dataframe\">\n",
       "  <thead>\n",
       "    <tr style=\"text-align: right;\">\n",
       "      <th></th>\n",
       "      <th>sku</th>\n",
       "      <th>dyid</th>\n",
       "      <th>timestamp</th>\n",
       "      <th>groupid</th>\n",
       "    </tr>\n",
       "  </thead>\n",
       "  <tbody>\n",
       "    <tr>\n",
       "      <td>9999995</td>\n",
       "      <td>27890</td>\n",
       "      <td>4517110749940314857</td>\n",
       "      <td>1565160220902</td>\n",
       "      <td>12817</td>\n",
       "    </tr>\n",
       "    <tr>\n",
       "      <td>9999996</td>\n",
       "      <td>207316</td>\n",
       "      <td>-4035224843652009239</td>\n",
       "      <td>1565160218103</td>\n",
       "      <td>19439</td>\n",
       "    </tr>\n",
       "    <tr>\n",
       "      <td>9999997</td>\n",
       "      <td>202144</td>\n",
       "      <td>-5323254590529555453</td>\n",
       "      <td>1565160217601</td>\n",
       "      <td>12179</td>\n",
       "    </tr>\n",
       "    <tr>\n",
       "      <td>9999998</td>\n",
       "      <td>207316</td>\n",
       "      <td>-4035224843652009239</td>\n",
       "      <td>1565160215769</td>\n",
       "      <td>19439</td>\n",
       "    </tr>\n",
       "    <tr>\n",
       "      <td>9999999</td>\n",
       "      <td>203175</td>\n",
       "      <td>6642809756860333372</td>\n",
       "      <td>1565160213779</td>\n",
       "      <td>18598</td>\n",
       "    </tr>\n",
       "  </tbody>\n",
       "</table>\n",
       "</div>"
      ],
      "text/plain": [
       "            sku                 dyid      timestamp  groupid\n",
       "9999995   27890  4517110749940314857  1565160220902    12817\n",
       "9999996  207316 -4035224843652009239  1565160218103    19439\n",
       "9999997  202144 -5323254590529555453  1565160217601    12179\n",
       "9999998  207316 -4035224843652009239  1565160215769    19439\n",
       "9999999  203175  6642809756860333372  1565160213779    18598"
      ]
     },
     "execution_count": 7,
     "metadata": {},
     "output_type": "execute_result"
    }
   ],
   "source": [
    "print(df_raw.shape, '\\n', df_raw.dtypes)\n",
    "df_raw.tail()"
   ]
  },
  {
   "cell_type": "code",
   "execution_count": 8,
   "metadata": {},
   "outputs": [
    {
     "data": {
      "text/plain": [
       "sku          0\n",
       "dyid         0\n",
       "timestamp    0\n",
       "groupid      0\n",
       "dtype: int64"
      ]
     },
     "execution_count": 8,
     "metadata": {},
     "output_type": "execute_result"
    }
   ],
   "source": [
    "# check for missing values\n",
    "df_raw.isnull().sum()"
   ]
  },
  {
   "cell_type": "code",
   "execution_count": 9,
   "metadata": {},
   "outputs": [],
   "source": [
    "# remove missing values\n",
    "df_raw.dropna(inplace=True)"
   ]
  },
  {
   "cell_type": "code",
   "execution_count": 10,
   "metadata": {},
   "outputs": [
    {
     "name": "stdout",
     "output_type": "stream",
     "text": [
      "(10000000, 4)\n"
     ]
    }
   ],
   "source": [
    "# remove rows where 'sku' is null\n",
    "# df_raw.dropna(subset = [itemID], inplace=True)\n",
    "print(df_raw.shape)"
   ]
  },
  {
   "cell_type": "code",
   "execution_count": 11,
   "metadata": {},
   "outputs": [
    {
     "name": "stdout",
     "output_type": "stream",
     "text": [
      "duplicated rows:965\n"
     ]
    }
   ],
   "source": [
    "# check for duplicates\n",
    "#df_raw.duplicated().sum()\n",
    "print(f'duplicated rows:{df_raw.duplicated().sum()}')"
   ]
  },
  {
   "cell_type": "markdown",
   "metadata": {},
   "source": [
    "# Q: \n",
    "can we remove those duplicates? they may nit be duplicates in original file"
   ]
  },
  {
   "cell_type": "code",
   "execution_count": 12,
   "metadata": {},
   "outputs": [
    {
     "data": {
      "text/plain": [
       "(7455212, 4)"
      ]
     },
     "execution_count": 12,
     "metadata": {},
     "output_type": "execute_result"
    }
   ],
   "source": [
    "df_raw.drop_duplicates(subset = [userID, itemID], inplace=True, keep='last')\n",
    "df_raw.shape"
   ]
  },
  {
   "cell_type": "markdown",
   "metadata": {},
   "source": [
    "# pre processing"
   ]
  },
  {
   "cell_type": "code",
   "execution_count": 13,
   "metadata": {
    "scrolled": true
   },
   "outputs": [
    {
     "name": "stdout",
     "output_type": "stream",
     "text": [
      "sku          object\n",
      "dyid          int64\n",
      "timestamp     int64\n",
      "groupid       int64\n",
      "dtype: object\n"
     ]
    },
    {
     "data": {
      "text/html": [
       "<div>\n",
       "<style scoped>\n",
       "    .dataframe tbody tr th:only-of-type {\n",
       "        vertical-align: middle;\n",
       "    }\n",
       "\n",
       "    .dataframe tbody tr th {\n",
       "        vertical-align: top;\n",
       "    }\n",
       "\n",
       "    .dataframe thead th {\n",
       "        text-align: right;\n",
       "    }\n",
       "</style>\n",
       "<table border=\"1\" class=\"dataframe\">\n",
       "  <thead>\n",
       "    <tr style=\"text-align: right;\">\n",
       "      <th></th>\n",
       "      <th>sku</th>\n",
       "      <th>dyid</th>\n",
       "      <th>timestamp</th>\n",
       "      <th>groupid</th>\n",
       "    </tr>\n",
       "  </thead>\n",
       "  <tbody>\n",
       "    <tr>\n",
       "      <td>1823155</td>\n",
       "      <td>215043</td>\n",
       "      <td>-828662166661977062</td>\n",
       "      <td>1578887081907</td>\n",
       "      <td>14096</td>\n",
       "    </tr>\n",
       "    <tr>\n",
       "      <td>9304304</td>\n",
       "      <td>191116</td>\n",
       "      <td>2603080946963936078</td>\n",
       "      <td>1566537385814</td>\n",
       "      <td>13556</td>\n",
       "    </tr>\n",
       "    <tr>\n",
       "      <td>9045531</td>\n",
       "      <td>208235</td>\n",
       "      <td>-2760706097564641294</td>\n",
       "      <td>1567070328993</td>\n",
       "      <td>19469</td>\n",
       "    </tr>\n",
       "    <tr>\n",
       "      <td>6276296</td>\n",
       "      <td>13203</td>\n",
       "      <td>-225179554598989879</td>\n",
       "      <td>1572333801072</td>\n",
       "      <td>14416</td>\n",
       "    </tr>\n",
       "    <tr>\n",
       "      <td>6614054</td>\n",
       "      <td>213448</td>\n",
       "      <td>-3778519660599153183</td>\n",
       "      <td>1571834165423</td>\n",
       "      <td>21541</td>\n",
       "    </tr>\n",
       "  </tbody>\n",
       "</table>\n",
       "</div>"
      ],
      "text/plain": [
       "            sku                 dyid      timestamp  groupid\n",
       "1823155  215043  -828662166661977062  1578887081907    14096\n",
       "9304304  191116  2603080946963936078  1566537385814    13556\n",
       "9045531  208235 -2760706097564641294  1567070328993    19469\n",
       "6276296   13203  -225179554598989879  1572333801072    14416\n",
       "6614054  213448 -3778519660599153183  1571834165423    21541"
      ]
     },
     "execution_count": 13,
     "metadata": {},
     "output_type": "execute_result"
    }
   ],
   "source": [
    "print(df_raw.dtypes)\n",
    "df_raw.sample(5)"
   ]
  },
  {
   "cell_type": "markdown",
   "metadata": {},
   "source": [
    "# Q: \n",
    "- do we always want to work with strings? can we assume sku is always string/numeric?"
   ]
  },
  {
   "cell_type": "code",
   "execution_count": 14,
   "metadata": {},
   "outputs": [],
   "source": [
    "# convert item id to string\n",
    "df_raw[itemID]= df_raw[itemID].astype(str)"
   ]
  },
  {
   "cell_type": "code",
   "execution_count": 15,
   "metadata": {},
   "outputs": [
    {
     "data": {
      "text/plain": [
       "sku          object\n",
       "dyid          int64\n",
       "timestamp     int64\n",
       "groupid       int64\n",
       "dtype: object"
      ]
     },
     "execution_count": 15,
     "metadata": {},
     "output_type": "execute_result"
    }
   ],
   "source": [
    "df_raw.dtypes"
   ]
  },
  {
   "cell_type": "code",
   "execution_count": 16,
   "metadata": {},
   "outputs": [],
   "source": [
    "# convert timestamp to pandas datetime\n",
    "df_raw[timestamp] = pd.to_datetime(df_raw[timestamp], unit = 'ms')\n",
    "\n",
    "# df = df.set_index(df[timestamp])\n",
    "# df = df.sort_index()\n",
    "\n",
    "df_raw.sort_values(timestamp, inplace=True, ascending=True) #may be redundent"
   ]
  },
  {
   "cell_type": "code",
   "execution_count": 17,
   "metadata": {},
   "outputs": [
    {
     "data": {
      "text/plain": [
       "(            sku                 dyid               timestamp  groupid\n",
       " 9999999  203175  6642809756860333372 2019-08-07 06:43:33.779    18598\n",
       " 9999998  207316 -4035224843652009239 2019-08-07 06:43:35.769    19439\n",
       " 9999997  202144 -5323254590529555453 2019-08-07 06:43:37.601    12179\n",
       " 9999995   27890  4517110749940314857 2019-08-07 06:43:40.902    12817\n",
       " 9999994  210282  8061443759760110214 2019-08-07 06:43:45.899        0,\n",
       "       sku                 dyid               timestamp  groupid\n",
       " 4  212261 -2499497366418245782 2020-02-18 22:59:48.758        0\n",
       " 3  206796  -869194421557761063 2020-02-18 22:59:49.995    21922\n",
       " 2  211189 -3130001434504735196 2020-02-18 22:59:52.081    20607\n",
       " 1  216959 -5156621374223733360 2020-02-18 22:59:52.589    23162\n",
       " 0  217042 -2170734847011820536 2020-02-18 22:59:53.162    23194)"
      ]
     },
     "execution_count": 17,
     "metadata": {},
     "output_type": "execute_result"
    }
   ],
   "source": [
    "df_raw.head(), df_raw.tail()"
   ]
  },
  {
   "cell_type": "code",
   "execution_count": 18,
   "metadata": {},
   "outputs": [
    {
     "data": {
      "text/html": [
       "<div>\n",
       "<style scoped>\n",
       "    .dataframe tbody tr th:only-of-type {\n",
       "        vertical-align: middle;\n",
       "    }\n",
       "\n",
       "    .dataframe tbody tr th {\n",
       "        vertical-align: top;\n",
       "    }\n",
       "\n",
       "    .dataframe thead th {\n",
       "        text-align: right;\n",
       "    }\n",
       "</style>\n",
       "<table border=\"1\" class=\"dataframe\">\n",
       "  <thead>\n",
       "    <tr style=\"text-align: right;\">\n",
       "      <th></th>\n",
       "      <th>sku</th>\n",
       "      <th>name</th>\n",
       "      <th>url</th>\n",
       "      <th>price</th>\n",
       "      <th>in_stock</th>\n",
       "      <th>image_url</th>\n",
       "      <th>categories</th>\n",
       "    </tr>\n",
       "  </thead>\n",
       "  <tbody>\n",
       "    <tr>\n",
       "      <td>0</td>\n",
       "      <td>sku</td>\n",
       "      <td>name</td>\n",
       "      <td>url</td>\n",
       "      <td>NaN</td>\n",
       "      <td>NaN</td>\n",
       "      <td>image_url</td>\n",
       "      <td>categories</td>\n",
       "    </tr>\n",
       "    <tr>\n",
       "      <td>1</td>\n",
       "      <td>182491</td>\n",
       "      <td>Magic Black Powder Eye &amp; Cheek Patch</td>\n",
       "      <td>https://www.sephora.com.au/products/caolion-ma...</td>\n",
       "      <td>9.0</td>\n",
       "      <td>True</td>\n",
       "      <td>https://static-reg.lximg.com/images/product_im...</td>\n",
       "      <td>skincare|masks-and-treatments|eye-care|caolion</td>\n",
       "    </tr>\n",
       "    <tr>\n",
       "      <td>3</td>\n",
       "      <td>\"</td>\n",
       "      <td>9</td>\n",
       "      <td>false</td>\n",
       "      <td>NaN</td>\n",
       "      <td>NaN</td>\n",
       "      <td>caolion-magic-black-powder-eye-and-cheek-patch</td>\n",
       "      <td>3.5</td>\n",
       "    </tr>\n",
       "    <tr>\n",
       "      <td>4</td>\n",
       "      <td>20370</td>\n",
       "      <td>Volume Conditioner</td>\n",
       "      <td>https://www.sephora.com.au/products/ouai-volum...</td>\n",
       "      <td>43.0</td>\n",
       "      <td>True</td>\n",
       "      <td>https://static-reg.lximg.com/images/product_im...</td>\n",
       "      <td>hair|shampoo-and-conditioner|conditioner|ouai</td>\n",
       "    </tr>\n",
       "    <tr>\n",
       "      <td>5</td>\n",
       "      <td>201864</td>\n",
       "      <td>Temporary Colour Gel</td>\n",
       "      <td>https://www.sephora.com.au/products/christophe...</td>\n",
       "      <td>51.0</td>\n",
       "      <td>True</td>\n",
       "      <td>https://static-reg.lximg.com/images/product_im...</td>\n",
       "      <td>hair|styling|hair-colour|christophe-robin</td>\n",
       "    </tr>\n",
       "    <tr>\n",
       "      <td>...</td>\n",
       "      <td>...</td>\n",
       "      <td>...</td>\n",
       "      <td>...</td>\n",
       "      <td>...</td>\n",
       "      <td>...</td>\n",
       "      <td>...</td>\n",
       "      <td>...</td>\n",
       "    </tr>\n",
       "    <tr>\n",
       "      <td>14504</td>\n",
       "      <td>192790</td>\n",
       "      <td>Behind The Scenes™ Balancing Bio-Cellulose Sec...</td>\n",
       "      <td>https://www.sephora.com.au/products/starskin-b...</td>\n",
       "      <td>18.0</td>\n",
       "      <td>False</td>\n",
       "      <td>https://static-reg.lximg.com/images/product_im...</td>\n",
       "      <td>skincare|masks-and-treatments|mask|star-skin</td>\n",
       "    </tr>\n",
       "    <tr>\n",
       "      <td>14505</td>\n",
       "      <td>192793</td>\n",
       "      <td>Eye Catcher™ Smoothing Bio-Cellulose Second Sk...</td>\n",
       "      <td>https://www.sephora.com.au/products/starskin-e...</td>\n",
       "      <td>18.0</td>\n",
       "      <td>True</td>\n",
       "      <td>https://static-reg.lximg.com/images/product_im...</td>\n",
       "      <td>skincare|masks-and-treatments|eye-care|star-skin</td>\n",
       "    </tr>\n",
       "    <tr>\n",
       "      <td>14506</td>\n",
       "      <td>10464</td>\n",
       "      <td>Blush Brush #2</td>\n",
       "      <td>https://www.sephora.com.au/products/antonym-bl...</td>\n",
       "      <td>33.0</td>\n",
       "      <td>True</td>\n",
       "      <td>https://static-reg.lximg.com/images/product_im...</td>\n",
       "      <td>tools-and-brushes|brushes|face-brushes|antonym</td>\n",
       "    </tr>\n",
       "    <tr>\n",
       "      <td>14507</td>\n",
       "      <td>29431</td>\n",
       "      <td>Brush Palette</td>\n",
       "      <td>https://www.sephora.com.au/products/artis-brus...</td>\n",
       "      <td>86.0</td>\n",
       "      <td>True</td>\n",
       "      <td>https://static-reg.lximg.com/images/product_im...</td>\n",
       "      <td>tools-and-brushes|bags-and-organisers|palette-...</td>\n",
       "    </tr>\n",
       "    <tr>\n",
       "      <td>14509</td>\n",
       "      <td>\"</td>\n",
       "      <td>86</td>\n",
       "      <td>false</td>\n",
       "      <td>NaN</td>\n",
       "      <td>NaN</td>\n",
       "      <td>artis-brush-brush-palette</td>\n",
       "      <td>0.0</td>\n",
       "    </tr>\n",
       "  </tbody>\n",
       "</table>\n",
       "<p>13365 rows × 7 columns</p>\n",
       "</div>"
      ],
      "text/plain": [
       "          sku                                               name  \\\n",
       "0         sku                                               name   \n",
       "1      182491               Magic Black Powder Eye & Cheek Patch   \n",
       "3           \"                                                  9   \n",
       "4       20370                                Volume Conditioner    \n",
       "5      201864                               Temporary Colour Gel   \n",
       "...       ...                                                ...   \n",
       "14504  192790  Behind The Scenes™ Balancing Bio-Cellulose Sec...   \n",
       "14505  192793  Eye Catcher™ Smoothing Bio-Cellulose Second Sk...   \n",
       "14506   10464                                     Blush Brush #2   \n",
       "14507   29431                                      Brush Palette   \n",
       "14509       \"                                                 86   \n",
       "\n",
       "                                                     url  price in_stock  \\\n",
       "0                                                    url    NaN      NaN   \n",
       "1      https://www.sephora.com.au/products/caolion-ma...    9.0     True   \n",
       "3                                                  false    NaN      NaN   \n",
       "4      https://www.sephora.com.au/products/ouai-volum...   43.0     True   \n",
       "5      https://www.sephora.com.au/products/christophe...   51.0     True   \n",
       "...                                                  ...    ...      ...   \n",
       "14504  https://www.sephora.com.au/products/starskin-b...   18.0    False   \n",
       "14505  https://www.sephora.com.au/products/starskin-e...   18.0     True   \n",
       "14506  https://www.sephora.com.au/products/antonym-bl...   33.0     True   \n",
       "14507  https://www.sephora.com.au/products/artis-brus...   86.0     True   \n",
       "14509                                              false    NaN      NaN   \n",
       "\n",
       "                                               image_url  \\\n",
       "0                                              image_url   \n",
       "1      https://static-reg.lximg.com/images/product_im...   \n",
       "3         caolion-magic-black-powder-eye-and-cheek-patch   \n",
       "4      https://static-reg.lximg.com/images/product_im...   \n",
       "5      https://static-reg.lximg.com/images/product_im...   \n",
       "...                                                  ...   \n",
       "14504  https://static-reg.lximg.com/images/product_im...   \n",
       "14505  https://static-reg.lximg.com/images/product_im...   \n",
       "14506  https://static-reg.lximg.com/images/product_im...   \n",
       "14507  https://static-reg.lximg.com/images/product_im...   \n",
       "14509                          artis-brush-brush-palette   \n",
       "\n",
       "                                              categories  \n",
       "0                                             categories  \n",
       "1         skincare|masks-and-treatments|eye-care|caolion  \n",
       "3                                                    3.5  \n",
       "4          hair|shampoo-and-conditioner|conditioner|ouai  \n",
       "5              hair|styling|hair-colour|christophe-robin  \n",
       "...                                                  ...  \n",
       "14504       skincare|masks-and-treatments|mask|star-skin  \n",
       "14505   skincare|masks-and-treatments|eye-care|star-skin  \n",
       "14506     tools-and-brushes|brushes|face-brushes|antonym  \n",
       "14507  tools-and-brushes|bags-and-organisers|palette-...  \n",
       "14509                                                0.0  \n",
       "\n",
       "[13365 rows x 7 columns]"
      ]
     },
     "execution_count": 18,
     "metadata": {},
     "output_type": "execute_result"
    }
   ],
   "source": [
    "feed_df"
   ]
  },
  {
   "cell_type": "code",
   "execution_count": 19,
   "metadata": {
    "scrolled": true
   },
   "outputs": [
    {
     "data": {
      "text/plain": [
       "(4354651, 4)"
      ]
     },
     "execution_count": 19,
     "metadata": {},
     "output_type": "execute_result"
    }
   ],
   "source": [
    "# seperate raw data according to dates\n",
    "split_date = pd.datetime(2019,11,1)\n",
    "\n",
    "# df_older = df_raw.loc[df_raw[timestamp] < split_date]\n",
    "df_newest = df_raw.loc[df_raw[timestamp] >= split_date]\n",
    "\n",
    "df_newest.shape"
   ]
  },
  {
   "cell_type": "code",
   "execution_count": 20,
   "metadata": {},
   "outputs": [],
   "source": [
    "df = df_newest.copy()"
   ]
  },
  {
   "cell_type": "code",
   "execution_count": 21,
   "metadata": {},
   "outputs": [],
   "source": [
    "#df.to_csv('section1.csv')"
   ]
  },
  {
   "cell_type": "code",
   "execution_count": 22,
   "metadata": {},
   "outputs": [
    {
     "name": "stdout",
     "output_type": "stream",
     "text": [
      "# of user in data since 2019-11-01 00:00:00 = 1173521\n"
     ]
    },
    {
     "data": {
      "text/html": [
       "<div>\n",
       "<style scoped>\n",
       "    .dataframe tbody tr th:only-of-type {\n",
       "        vertical-align: middle;\n",
       "    }\n",
       "\n",
       "    .dataframe tbody tr th {\n",
       "        vertical-align: top;\n",
       "    }\n",
       "\n",
       "    .dataframe thead th {\n",
       "        text-align: right;\n",
       "    }\n",
       "</style>\n",
       "<table border=\"1\" class=\"dataframe\">\n",
       "  <thead>\n",
       "    <tr style=\"text-align: right;\">\n",
       "      <th></th>\n",
       "      <th>sku</th>\n",
       "      <th>dyid</th>\n",
       "      <th>timestamp</th>\n",
       "      <th>groupid</th>\n",
       "    </tr>\n",
       "  </thead>\n",
       "  <tbody>\n",
       "    <tr>\n",
       "      <td>4</td>\n",
       "      <td>212261</td>\n",
       "      <td>-2499497366418245782</td>\n",
       "      <td>2020-02-18 22:59:48.758</td>\n",
       "      <td>0</td>\n",
       "    </tr>\n",
       "    <tr>\n",
       "      <td>3</td>\n",
       "      <td>206796</td>\n",
       "      <td>-869194421557761063</td>\n",
       "      <td>2020-02-18 22:59:49.995</td>\n",
       "      <td>21922</td>\n",
       "    </tr>\n",
       "    <tr>\n",
       "      <td>2</td>\n",
       "      <td>211189</td>\n",
       "      <td>-3130001434504735196</td>\n",
       "      <td>2020-02-18 22:59:52.081</td>\n",
       "      <td>20607</td>\n",
       "    </tr>\n",
       "    <tr>\n",
       "      <td>1</td>\n",
       "      <td>216959</td>\n",
       "      <td>-5156621374223733360</td>\n",
       "      <td>2020-02-18 22:59:52.589</td>\n",
       "      <td>23162</td>\n",
       "    </tr>\n",
       "    <tr>\n",
       "      <td>0</td>\n",
       "      <td>217042</td>\n",
       "      <td>-2170734847011820536</td>\n",
       "      <td>2020-02-18 22:59:53.162</td>\n",
       "      <td>23194</td>\n",
       "    </tr>\n",
       "  </tbody>\n",
       "</table>\n",
       "</div>"
      ],
      "text/plain": [
       "      sku                 dyid               timestamp  groupid\n",
       "4  212261 -2499497366418245782 2020-02-18 22:59:48.758        0\n",
       "3  206796  -869194421557761063 2020-02-18 22:59:49.995    21922\n",
       "2  211189 -3130001434504735196 2020-02-18 22:59:52.081    20607\n",
       "1  216959 -5156621374223733360 2020-02-18 22:59:52.589    23162\n",
       "0  217042 -2170734847011820536 2020-02-18 22:59:53.162    23194"
      ]
     },
     "execution_count": 22,
     "metadata": {},
     "output_type": "execute_result"
    }
   ],
   "source": [
    "# check how many users we have\n",
    "users = df[userID].unique().tolist()\n",
    "print(f'# of user in data since {split_date} = {len(users)}')\n",
    "df.tail()"
   ]
  },
  {
   "cell_type": "markdown",
   "metadata": {},
   "source": [
    "# split data to train and val\n",
    "- assumption: to uild the model - we use entire data\n",
    "- do I need this if we'll do CV?\n",
    "- for CV do we split on users?\n",
    "- split on dates vs latest session\n"
   ]
  },
  {
   "cell_type": "code",
   "execution_count": 23,
   "metadata": {},
   "outputs": [],
   "source": [
    "# # shuffle customer ID's\n",
    "# random.shuffle(users)\n",
    "\n",
    "# # extract 90% of user ID's\n",
    "# users_train = [users[i] for i in range(round(0.9*len(users)))]\n",
    "\n",
    "# # split data into train and validation set\n",
    "# train_df = df[df[userID].isin(users_train)]\n",
    "# validation_df = df[~df[userID].isin(users_train)]\n",
    "\n",
    "# split data into train and test set\n",
    "\n",
    "train_test_split_date = pd.datetime(2020,2,1)\n",
    "train_df = df.loc[df[timestamp] < train_test_split_date]\n",
    "test_df = df.loc[df[timestamp] >= train_test_split_date]\n"
   ]
  },
  {
   "cell_type": "code",
   "execution_count": 24,
   "metadata": {},
   "outputs": [
    {
     "data": {
      "text/plain": [
       "((3646421, 4), (708230, 4))"
      ]
     },
     "execution_count": 24,
     "metadata": {},
     "output_type": "execute_result"
    }
   ],
   "source": [
    "train_df.shape, test_df.shape"
   ]
  },
  {
   "cell_type": "code",
   "execution_count": 25,
   "metadata": {},
   "outputs": [
    {
     "data": {
      "text/plain": [
       "dyid\n",
       " 4629700921023119654                    [202769, 12707, 12708]\n",
       "-4895412643052699422    [202818, 26003, 181992, 194702, 33606]\n",
       " 1265512055210373580                                  [215043]\n",
       "-6913025117198645914                                  [216239]\n",
       " 810648312459988777                                    [31313]\n",
       "-8858580319468246265                                  [200109]\n",
       " 1179943400299089197                            [33589, 21586]\n",
       "-6435643475095227442                                   [24686]\n",
       " 3066951519618042077                                   [34108]\n",
       " 562950221286911730                            [26782, 213367]\n",
       "Name: sku, dtype: object"
      ]
     },
     "execution_count": 25,
     "metadata": {},
     "output_type": "execute_result"
    }
   ],
   "source": [
    "train_seq_df = train_df.groupby(userID)[itemID].apply(list)\n",
    "# train_seq_df.rename(columns={'sku': 'sku_train'})\n",
    "train_seq_df.sample(10)"
   ]
  },
  {
   "cell_type": "code",
   "execution_count": 26,
   "metadata": {},
   "outputs": [
    {
     "data": {
      "text/plain": [
       "array([list(['31527', '13268', '212187', '217129', '28244', '26748', '211746', '211751', '15821', '31527', '194054', '26749', '214546', '214548', '19674', '206371', '209035', '210217', '206770', '32671', '192803', '192800', '192799', '190239', '212674', '211686', '214548', '210701', '214045', '215046', '215048', '26812', '210703', '210702', '25835']),\n",
       "       list(['208960', '205570']), list(['207641', '192421']), ...,\n",
       "       list(['949', '181776', '206796', '208871']),\n",
       "       list(['12275', '215875', '216237', '214697', '194311', '26135', '207334', '26103', '206391']),\n",
       "       list(['33986'])], dtype=object)"
      ]
     },
     "execution_count": 26,
     "metadata": {},
     "output_type": "execute_result"
    }
   ],
   "source": [
    "train_sequences = train_seq_df.values\n",
    "train_sequences"
   ]
  },
  {
   "cell_type": "code",
   "execution_count": 27,
   "metadata": {},
   "outputs": [
    {
     "data": {
      "text/plain": [
       "dyid\n",
       "-2796734976189546200                                [213438]\n",
       " 8764005237193370922                         [213383, 28165]\n",
       "-5143110592487338767                                 [26219]\n",
       "-7881299187403809490                                [210702]\n",
       "-3377699517082907311                                 [32023]\n",
       "-1693352899972997703    [215048, 33593, 28915, 26082, 33592]\n",
       "-7295831214369601805                         [31862, 193671]\n",
       "-8858580207758758699                                [214055]\n",
       "-1094374364296948314                                [203122]\n",
       "-540431713185128811                                 [200109]\n",
       "Name: sku, dtype: object"
      ]
     },
     "execution_count": 27,
     "metadata": {},
     "output_type": "execute_result"
    }
   ],
   "source": [
    "test_seq_df = test_df.groupby(userID)[itemID].apply(list)\n",
    "test_seq_df.sample(10)"
   ]
  },
  {
   "cell_type": "code",
   "execution_count": 28,
   "metadata": {},
   "outputs": [
    {
     "data": {
      "text/plain": [
       "array([list(['214624', '15821']), list(['218652']), list(['213439']), ...,\n",
       "       list(['28915']),\n",
       "       list(['27972', '27971', '202727', '214515', '31811']),\n",
       "       list(['31625'])], dtype=object)"
      ]
     },
     "execution_count": 28,
     "metadata": {},
     "output_type": "execute_result"
    }
   ],
   "source": [
    "test_sequences = test_seq_df.values\n",
    "test_sequences"
   ]
  },
  {
   "cell_type": "markdown",
   "metadata": {},
   "source": [
    "from gensim documentation:\n",
    "The full power of Gensim comes from the fact that a corpus doesn’t have to be a list, or a NumPy array, or a Pandas dataframe, or whatever. Gensim accepts any object that, when iterated over, successively yields documents.\n"
   ]
  },
  {
   "cell_type": "markdown",
   "metadata": {},
   "source": [
    "# if we need to use pickle to store data"
   ]
  },
  {
   "cell_type": "code",
   "execution_count": 29,
   "metadata": {},
   "outputs": [],
   "source": [
    "# import pickle\n",
    "\n",
    "# with open('train_seq', 'wb') as fp:\n",
    "#     pickle.dump(train_sequences, fp)\n",
    "    \n",
    "# with open('train_seq', 'rb') as fp:\n",
    "#     train_sequences = pickle.load(fp)\n",
    "\n",
    "\n",
    "# with open('test_seq', 'wb') as fp:\n",
    "#     pickle.dump(test_sequences, fp)\n",
    "    \n",
    "# with open('test_seq', 'rb') as fp:\n",
    "#     test_sequences = pickle.load(fp)\n",
    "# len(test_sequences)\n"
   ]
  },
  {
   "cell_type": "markdown",
   "metadata": {},
   "source": [
    "# generate word2vec embeddings for items"
   ]
  },
  {
   "cell_type": "code",
   "execution_count": 30,
   "metadata": {},
   "outputs": [],
   "source": [
    "#Hyper Paramters\n",
    "# Init signature:\n",
    "# Word2Vec(\n",
    "#     sentences=None,\n",
    "#     corpus_file=None,\n",
    "#     size=SIZE,\n",
    "#     alpha=0.025,\n",
    "#     window=WINDOW,\n",
    "#     min_count=MINCOUNT,\n",
    "#     max_vocab_size=None,\n",
    "#     sample=0.001,\n",
    "#     seed=1,\n",
    "#     workers=3,\n",
    "#     min_alpha=0.0001,\n",
    "#     sg=0,\n",
    "#     hs=0,\n",
    "#     negative=5,\n",
    "#     ns_exponent=0.75,\n",
    "#     cbow_mean=1,\n",
    "#     hashfxn=<built-in function hash>,\n",
    "#     iter=5,\n",
    "#     null_word=0,\n",
    "#     trim_rule=None,\n",
    "#     sorted_vocab=1,\n",
    "#     batch_words=10000,\n",
    "#     compute_loss=False,\n",
    "#     callbacks=(),\n",
    "#     max_final_vocab=None,\n",
    "# )\n"
   ]
  },
  {
   "cell_type": "markdown",
   "metadata": {},
   "source": [
    "# Q:\n",
    "- version control (Git)\n",
    "- data, code, hyperprams, seed etc."
   ]
  },
  {
   "cell_type": "code",
   "execution_count": 63,
   "metadata": {},
   "outputs": [],
   "source": [
    "# test area - a single model generation\n",
    "\n",
    "WINDOW = 5\n",
    "SIZE = 75\n",
    "MIN_COUNT = 3\n",
    "NEGATIVE = 5\n",
    "verbose_dict = {}\n",
    "\n",
    "model = Word2Vec(window = WINDOW, size= SIZE, sg = 1, min_count = MIN_COUNT,\n",
    "                 hs = 0, negative = NEGATIVE, # for negative sampling\n",
    "                 alpha=0.01, min_alpha=0.0007,\n",
    "                 seed = 42, workers = 4)\n",
    "\n",
    "verbose_dict.update({'window': WINDOW, 'size': SIZE, 'min_count': MIN_COUNT,'negative': NEGATIVE})  \n"
   ]
  },
  {
   "cell_type": "code",
   "execution_count": 64,
   "metadata": {},
   "outputs": [
    {
     "data": {
      "text/plain": [
       "{'window': 5, 'size': 75, 'min_count': 3, 'negative': 5}"
      ]
     },
     "execution_count": 64,
     "metadata": {},
     "output_type": "execute_result"
    }
   ],
   "source": [
    "verbose_dict"
   ]
  },
  {
   "cell_type": "code",
   "execution_count": null,
   "metadata": {},
   "outputs": [],
   "source": [
    "model.build_vocab(train_sequences, progress_per=1000)\n",
    "\n",
    "model.train(train_sequences, total_examples = model.corpus_count, \n",
    "            epochs=10, report_delay=1)"
   ]
  },
  {
   "cell_type": "code",
   "execution_count": null,
   "metadata": {},
   "outputs": [],
   "source": [
    "# save word2vec model\n",
    "model.save('word2vec_17032020_01.model')"
   ]
  },
  {
   "cell_type": "code",
   "execution_count": null,
   "metadata": {},
   "outputs": [],
   "source": [
    "# for efficiency\n",
    "model.init_sims(replace=True)"
   ]
  },
  {
   "cell_type": "code",
   "execution_count": null,
   "metadata": {},
   "outputs": [],
   "source": [
    "print(model)"
   ]
  },
  {
   "cell_type": "code",
   "execution_count": null,
   "metadata": {
    "scrolled": true
   },
   "outputs": [],
   "source": [
    "# extract all vectors\n",
    "X = model[model.wv.vocab]\n",
    "\n",
    "X.shape"
   ]
  },
  {
   "cell_type": "markdown",
   "metadata": {},
   "source": [
    "# add descriptions from feed table"
   ]
  },
  {
   "cell_type": "code",
   "execution_count": 31,
   "metadata": {},
   "outputs": [],
   "source": [
    "# sku_name = pd.merge(df, feed_df, how='inner', on=['sku', 'sku'])\n",
    "item_catalog = pd.merge(df_raw, feed_df, how='inner', on=['sku', 'sku'])\n"
   ]
  },
  {
   "cell_type": "code",
   "execution_count": 32,
   "metadata": {},
   "outputs": [
    {
     "name": "stdout",
     "output_type": "stream",
     "text": [
      "            sku                                       name\n",
      "626      203175                 Prime + Set Complexion Kit\n",
      "11848    207316         Sun Stalk'r Instant Warmth Bronzer\n",
      "19044    202144  Stunna Lip Paint Longwear Fluid Lip Color\n",
      "19151     33723                          Two Tone Lipstick\n",
      "29195     29581                            Cream Lip Stain\n",
      "...         ...                                        ...\n",
      "6586571  216851                  Agave+ Intensive Lip Mask\n",
      "6586573  216844         Power Move Creamy Matte Lip Crayon\n",
      "6586575  216839         Power Move Creamy Matte Lip Crayon\n",
      "6586576  216837         Power Move Creamy Matte Lip Crayon\n",
      "6586577  212261         Changemaker Skin-Optimizing Primer\n",
      "\n",
      "[10715 rows x 2 columns]\n"
     ]
    }
   ],
   "source": [
    "# RINA: is it necassey to buid this dict? we have df with this data\n",
    "\n",
    "items = item_catalog[[itemID, description]]\n",
    "# remove duplicates\n",
    "items.drop_duplicates(inplace=True, subset=itemID, keep='last')\n",
    "\n",
    "# create product-ID and product-description dictionary\n",
    "items_dict = items.groupby(itemID)[description].apply(list).to_dict()\n",
    "\n",
    "print(items)"
   ]
  },
  {
   "cell_type": "code",
   "execution_count": 33,
   "metadata": {},
   "outputs": [
    {
     "data": {
      "text/html": [
       "<div>\n",
       "<style scoped>\n",
       "    .dataframe tbody tr th:only-of-type {\n",
       "        vertical-align: middle;\n",
       "    }\n",
       "\n",
       "    .dataframe tbody tr th {\n",
       "        vertical-align: top;\n",
       "    }\n",
       "\n",
       "    .dataframe thead th {\n",
       "        text-align: right;\n",
       "    }\n",
       "</style>\n",
       "<table border=\"1\" class=\"dataframe\">\n",
       "  <thead>\n",
       "    <tr style=\"text-align: right;\">\n",
       "      <th></th>\n",
       "      <th>name</th>\n",
       "    </tr>\n",
       "    <tr>\n",
       "      <th>sku</th>\n",
       "      <th></th>\n",
       "    </tr>\n",
       "  </thead>\n",
       "  <tbody>\n",
       "    <tr>\n",
       "      <td>203175</td>\n",
       "      <td>Prime + Set Complexion Kit</td>\n",
       "    </tr>\n",
       "    <tr>\n",
       "      <td>207316</td>\n",
       "      <td>Sun Stalk'r Instant Warmth Bronzer</td>\n",
       "    </tr>\n",
       "    <tr>\n",
       "      <td>202144</td>\n",
       "      <td>Stunna Lip Paint Longwear Fluid Lip Color</td>\n",
       "    </tr>\n",
       "    <tr>\n",
       "      <td>33723</td>\n",
       "      <td>Two Tone Lipstick</td>\n",
       "    </tr>\n",
       "    <tr>\n",
       "      <td>29581</td>\n",
       "      <td>Cream Lip Stain</td>\n",
       "    </tr>\n",
       "    <tr>\n",
       "      <td>...</td>\n",
       "      <td>...</td>\n",
       "    </tr>\n",
       "    <tr>\n",
       "      <td>216851</td>\n",
       "      <td>Agave+ Intensive Lip Mask</td>\n",
       "    </tr>\n",
       "    <tr>\n",
       "      <td>216844</td>\n",
       "      <td>Power Move Creamy Matte Lip Crayon</td>\n",
       "    </tr>\n",
       "    <tr>\n",
       "      <td>216839</td>\n",
       "      <td>Power Move Creamy Matte Lip Crayon</td>\n",
       "    </tr>\n",
       "    <tr>\n",
       "      <td>216837</td>\n",
       "      <td>Power Move Creamy Matte Lip Crayon</td>\n",
       "    </tr>\n",
       "    <tr>\n",
       "      <td>212261</td>\n",
       "      <td>Changemaker Skin-Optimizing Primer</td>\n",
       "    </tr>\n",
       "  </tbody>\n",
       "</table>\n",
       "<p>10715 rows × 1 columns</p>\n",
       "</div>"
      ],
      "text/plain": [
       "                                             name\n",
       "sku                                              \n",
       "203175                 Prime + Set Complexion Kit\n",
       "207316         Sun Stalk'r Instant Warmth Bronzer\n",
       "202144  Stunna Lip Paint Longwear Fluid Lip Color\n",
       "33723                           Two Tone Lipstick\n",
       "29581                             Cream Lip Stain\n",
       "...                                           ...\n",
       "216851                  Agave+ Intensive Lip Mask\n",
       "216844         Power Move Creamy Matte Lip Crayon\n",
       "216839         Power Move Creamy Matte Lip Crayon\n",
       "216837         Power Move Creamy Matte Lip Crayon\n",
       "212261         Changemaker Skin-Optimizing Primer\n",
       "\n",
       "[10715 rows x 1 columns]"
      ]
     },
     "execution_count": 33,
     "metadata": {},
     "output_type": "execute_result"
    }
   ],
   "source": [
    "items.set_index('sku')"
   ]
  },
  {
   "cell_type": "code",
   "execution_count": 43,
   "metadata": {},
   "outputs": [],
   "source": [
    "def similar_items(model, v, n = 5):\n",
    "    \n",
    "    # extract most similar products for the input vector\n",
    "    ms = model.similar_by_vector(v, topn= n+1)[1:] # all but the product itself\n",
    "#     print(ms)\n",
    "    # extract name and similarity score of the similar products\n",
    "    desc_ms = []\n",
    "    for j in ms:\n",
    "        pair = (items_dict[j[0]][0], j[1])\n",
    "#         print(pair) # added just till we fix catalog isues\n",
    "        desc_ms.append(pair)\n",
    "        \n",
    "    return ms, desc_ms        "
   ]
  },
  {
   "cell_type": "markdown",
   "metadata": {},
   "source": [
    "# Displaying similarities and recomendations"
   ]
  },
  {
   "cell_type": "code",
   "execution_count": 44,
   "metadata": {},
   "outputs": [],
   "source": [
    "from imageio import imread\n",
    "\n",
    "topN = 10\n",
    "\n",
    "def display_image_by_item(ID):\n",
    "    url = feed_df[feed_df.sku == str(ID)].iloc[0, 5]\n",
    "    plt.axis('off')\n",
    "\n",
    "    image = imread(url)\n",
    "    plt.imshow(image)\n",
    "\n",
    "def get_image_by_item(ID):\n",
    "    url = feed_df[feed_df.sku == str(ID)].iloc[0, 5]\n",
    "    return imread(url)\n",
    "    \n",
    "def display_impages(image_list):\n",
    "    plt.figure(figsize=(20,10))\n",
    "    columns = 5\n",
    "    plt.axis('off')\n",
    "\n",
    "    for i, image in enumerate(image_list):\n",
    "        plt.subplot(len(image_list) / columns + 1, columns, i + 1)\n",
    "        plt.axis('off')\n",
    "        plt.imshow(image)\n",
    "\n",
    "def get_last_items_by_user(user, lastN = 3):\n",
    "    pass\n",
    "\n",
    "def get_similar_by_item(sample_code, topN = 5):\n",
    "    ms, _ = similar_items(model, model[str(sample_code)], n=topN)\n",
    "    predictions = [item[0] for item in ms]\n",
    "    debug_items = []\n",
    "    for item_code in predictions:\n",
    "            try:\n",
    "                # test the dictionary\n",
    "#                 print(items_dict[str(item_code)])\n",
    "                url = feed_df[feed_df.sku == str(item_code)].iloc[0, 5]\n",
    "                from imageio import imread\n",
    "                image = imread(url)\n",
    "                plt.axis('off')\n",
    "                plt.imshow(image)    \n",
    "            except KeyError:\n",
    "                debug_items.append(item_code)\n",
    "            pass\n"
   ]
  },
  {
   "cell_type": "code",
   "execution_count": 97,
   "metadata": {},
   "outputs": [
    {
     "data": {
      "text/html": [
       "<div>\n",
       "<style scoped>\n",
       "    .dataframe tbody tr th:only-of-type {\n",
       "        vertical-align: middle;\n",
       "    }\n",
       "\n",
       "    .dataframe tbody tr th {\n",
       "        vertical-align: top;\n",
       "    }\n",
       "\n",
       "    .dataframe thead th {\n",
       "        text-align: right;\n",
       "    }\n",
       "</style>\n",
       "<table border=\"1\" class=\"dataframe\">\n",
       "  <thead>\n",
       "    <tr style=\"text-align: right;\">\n",
       "      <th></th>\n",
       "      <th>sku</th>\n",
       "      <th>name</th>\n",
       "    </tr>\n",
       "  </thead>\n",
       "  <tbody>\n",
       "    <tr>\n",
       "      <td>6334664</td>\n",
       "      <td>193552</td>\n",
       "      <td>Bird's Nest Blurring Beauty Mousse</td>\n",
       "    </tr>\n",
       "    <tr>\n",
       "      <td>4001373</td>\n",
       "      <td>416</td>\n",
       "      <td>F82 Round Kabuki™ Brush</td>\n",
       "    </tr>\n",
       "    <tr>\n",
       "      <td>1472230</td>\n",
       "      <td>198877</td>\n",
       "      <td>Unicorn Essence</td>\n",
       "    </tr>\n",
       "    <tr>\n",
       "      <td>6586522</td>\n",
       "      <td>216145</td>\n",
       "      <td>Ultra HD Light Capturing Self-Setting Concealer</td>\n",
       "    </tr>\n",
       "    <tr>\n",
       "      <td>5124615</td>\n",
       "      <td>27185</td>\n",
       "      <td>Blush Trio</td>\n",
       "    </tr>\n",
       "    <tr>\n",
       "      <td>1342557</td>\n",
       "      <td>206306</td>\n",
       "      <td>Superberry Hydrate + Glow Dream Mask</td>\n",
       "    </tr>\n",
       "    <tr>\n",
       "      <td>3326634</td>\n",
       "      <td>14768</td>\n",
       "      <td>Maintain The Mane Conditioner</td>\n",
       "    </tr>\n",
       "    <tr>\n",
       "      <td>3081403</td>\n",
       "      <td>194356</td>\n",
       "      <td>\"Mini Precisely</td>\n",
       "    </tr>\n",
       "    <tr>\n",
       "      <td>2016632</td>\n",
       "      <td>210280</td>\n",
       "      <td>Eye Primer</td>\n",
       "    </tr>\n",
       "    <tr>\n",
       "      <td>4936010</td>\n",
       "      <td>193960</td>\n",
       "      <td>Rouge G de Guerlain Customizable Matte Lipstic...</td>\n",
       "    </tr>\n",
       "    <tr>\n",
       "      <td>5911368</td>\n",
       "      <td>212777</td>\n",
       "      <td>True Portrait Foundation</td>\n",
       "    </tr>\n",
       "    <tr>\n",
       "      <td>5191734</td>\n",
       "      <td>207613</td>\n",
       "      <td>Power Bullet Matte Lipstick</td>\n",
       "    </tr>\n",
       "    <tr>\n",
       "      <td>5262215</td>\n",
       "      <td>25108</td>\n",
       "      <td>Rouge Tint Lipstick</td>\n",
       "    </tr>\n",
       "  </tbody>\n",
       "</table>\n",
       "</div>"
      ],
      "text/plain": [
       "            sku                                               name\n",
       "6334664  193552                 Bird's Nest Blurring Beauty Mousse\n",
       "4001373     416                            F82 Round Kabuki™ Brush\n",
       "1472230  198877                                    Unicorn Essence\n",
       "6586522  216145    Ultra HD Light Capturing Self-Setting Concealer\n",
       "5124615   27185                                         Blush Trio\n",
       "1342557  206306               Superberry Hydrate + Glow Dream Mask\n",
       "3326634   14768                      Maintain The Mane Conditioner\n",
       "3081403  194356                                    \"Mini Precisely\n",
       "2016632  210280                                         Eye Primer\n",
       "4936010  193960  Rouge G de Guerlain Customizable Matte Lipstic...\n",
       "5911368  212777                           True Portrait Foundation\n",
       "5191734  207613                        Power Bullet Matte Lipstick\n",
       "5262215   25108                                Rouge Tint Lipstick"
      ]
     },
     "execution_count": 97,
     "metadata": {},
     "output_type": "execute_result"
    }
   ],
   "source": [
    "items.sample(13)"
   ]
  },
  {
   "cell_type": "code",
   "execution_count": 111,
   "metadata": {},
   "outputs": [
    {
     "data": {
      "image/png": "[encoded data removed]",
      "text/plain": [
       "<Figure size 432x288 with 1 Axes>"
      ]
     },
     "metadata": {
      "needs_background": "light"
     },
     "output_type": "display_data"
    }
   ],
   "source": [
    "sample_code = 210280\n",
    "display_image_by_item(sample_code)"
   ]
  },
  {
   "cell_type": "code",
   "execution_count": 112,
   "metadata": {},
   "outputs": [],
   "source": [
    "ms, _ = similar_items(cur_model, cur_model[str(sample_code)], n=5)\n",
    "# debug_items \n",
    "predictions = [item[0] for item in ms]"
   ]
  },
  {
   "cell_type": "code",
   "execution_count": 113,
   "metadata": {},
   "outputs": [],
   "source": [
    "images = []\n",
    "for ID in predictions:\n",
    "    image = get_image_by_item(ID)\n",
    "    images.append(image)"
   ]
  },
  {
   "cell_type": "code",
   "execution_count": 114,
   "metadata": {},
   "outputs": [
    {
     "data": {
      "image/png": "[encoded data removed]",
      "text/plain": [
       "<Figure size 1440x720 with 5 Axes>"
      ]
     },
     "metadata": {
      "needs_background": "light"
     },
     "output_type": "display_data"
    }
   ],
   "source": [
    "# display similar items\n",
    "display_impages(images)"
   ]
  },
  {
   "cell_type": "code",
   "execution_count": 50,
   "metadata": {},
   "outputs": [
    {
     "data": {
      "text/plain": [
       "dyid\n",
       "-8029917708825946931                                              [34965]\n",
       "-3003900610594717718                               [25967, 209190, 26162]\n",
       " 8579357716915902281                                              [17680]\n",
       "-7638104708744839125                                             [199003]\n",
       "-8615385819296972759     [212646, 212645, 211661, 211660, 213988, 213987]\n",
       "-2526519217579913366    [205482, 32791, 212691, 35367, 209286, 208793,...\n",
       " 3877599813316089658                                              [28901]\n",
       "-8435241542150642048                              [213438, 35163, 193930]\n",
       " 3440750662340315332    [200388, 210591, 10823, 211660, 215048, 215047...\n",
       " 5908723258144423405                              [16680, 202730, 202729]\n",
       "Name: sku, dtype: object"
      ]
     },
     "execution_count": 50,
     "metadata": {},
     "output_type": "execute_result"
    }
   ],
   "source": [
    "train_seq_df.sample(10)"
   ]
  },
  {
   "cell_type": "code",
   "execution_count": null,
   "metadata": {},
   "outputs": [],
   "source": []
  },
  {
   "cell_type": "code",
   "execution_count": 51,
   "metadata": {},
   "outputs": [],
   "source": [
    "def aggregate_vectors(model, items):\n",
    "    item_vec = []\n",
    "    for i in items:\n",
    "        try:\n",
    "            item_vec.append(model[i])\n",
    "        except KeyError:\n",
    "            pass\n",
    "        \n",
    "    return np.mean(item_vec, axis=0)\n"
   ]
  },
  {
   "cell_type": "code",
   "execution_count": 52,
   "metadata": {},
   "outputs": [],
   "source": [
    "# what do we do with users whם have 1 item in their history? we just get similarity"
   ]
  },
  {
   "cell_type": "markdown",
   "metadata": {},
   "source": [
    "To calculate hit ratio for a single user:\n",
    "\n",
    "Find all items in his/her history.\n",
    "Spare the last item from this list.\n",
    "Use all other items to feed the recommender and ask for n recommendations (This is where the HR@n comes from)\n",
    "If the last (hidden) item appear in the n recommendations, it is a hit. If not, it's not a hit.\n",
    "\n",
    "The whole Hit Rate of the system is the count of hits, divided by the test user count.\n",
    "\n",
    "Apparently when n increases, the hit rate will generally increase.\n",
    "(After a data-and-algorithm specific n value, the hit rate will no longer increase)\n",
    "\n",
    "Some algorithms may perform better with small n's, while other might perform better with large n's.\n",
    "\n",
    "So, it is common sense to use the real number of recommendations that will be used when the product goes live.\n",
    "\n",
    "It doesn't make sense to optimize the system for 50 recommendations, if you will generate 5 recommendations in the final product.\n"
   ]
  },
  {
   "cell_type": "markdown",
   "metadata": {},
   "source": [
    "# Evaluate - 2 problems to solve:\n",
    "- some specific rows cause an error: \n",
    "---> 22     ms = model.similar_by_vector(user_vec, topn= 5)\n",
    "\n",
    "TypeError: cannot unpack non-iterable numpy.float64 object\n",
    "\n",
    "- when I populted the 'hit' column with a numer or a boolean I was not able to see the next items and predictions... working with a 'T', 'F' char worked. have no idea why "
   ]
  },
  {
   "cell_type": "code",
   "execution_count": 53,
   "metadata": {},
   "outputs": [
    {
     "data": {
      "text/html": [
       "<div>\n",
       "<style scoped>\n",
       "    .dataframe tbody tr th:only-of-type {\n",
       "        vertical-align: middle;\n",
       "    }\n",
       "\n",
       "    .dataframe tbody tr th {\n",
       "        vertical-align: top;\n",
       "    }\n",
       "\n",
       "    .dataframe thead th {\n",
       "        text-align: right;\n",
       "    }\n",
       "</style>\n",
       "<table border=\"1\" class=\"dataframe\">\n",
       "  <thead>\n",
       "    <tr style=\"text-align: right;\">\n",
       "      <th></th>\n",
       "      <th>WINDOW</th>\n",
       "      <th>SIZE</th>\n",
       "      <th>MIN_COUNT</th>\n",
       "      <th>NEGATIVE</th>\n",
       "      <th>hit_rate</th>\n",
       "    </tr>\n",
       "  </thead>\n",
       "  <tbody>\n",
       "    <tr>\n",
       "      <td>0</td>\n",
       "      <td>5</td>\n",
       "      <td>20</td>\n",
       "      <td>3</td>\n",
       "      <td>5</td>\n",
       "      <td>0</td>\n",
       "    </tr>\n",
       "    <tr>\n",
       "      <td>1</td>\n",
       "      <td>5</td>\n",
       "      <td>20</td>\n",
       "      <td>3</td>\n",
       "      <td>7</td>\n",
       "      <td>0</td>\n",
       "    </tr>\n",
       "    <tr>\n",
       "      <td>2</td>\n",
       "      <td>5</td>\n",
       "      <td>20</td>\n",
       "      <td>3</td>\n",
       "      <td>10</td>\n",
       "      <td>0</td>\n",
       "    </tr>\n",
       "    <tr>\n",
       "      <td>3</td>\n",
       "      <td>5</td>\n",
       "      <td>20</td>\n",
       "      <td>4</td>\n",
       "      <td>5</td>\n",
       "      <td>0</td>\n",
       "    </tr>\n",
       "    <tr>\n",
       "      <td>4</td>\n",
       "      <td>5</td>\n",
       "      <td>20</td>\n",
       "      <td>4</td>\n",
       "      <td>7</td>\n",
       "      <td>0</td>\n",
       "    </tr>\n",
       "    <tr>\n",
       "      <td>5</td>\n",
       "      <td>5</td>\n",
       "      <td>20</td>\n",
       "      <td>4</td>\n",
       "      <td>10</td>\n",
       "      <td>0</td>\n",
       "    </tr>\n",
       "    <tr>\n",
       "      <td>6</td>\n",
       "      <td>5</td>\n",
       "      <td>20</td>\n",
       "      <td>5</td>\n",
       "      <td>5</td>\n",
       "      <td>0</td>\n",
       "    </tr>\n",
       "    <tr>\n",
       "      <td>7</td>\n",
       "      <td>5</td>\n",
       "      <td>20</td>\n",
       "      <td>5</td>\n",
       "      <td>7</td>\n",
       "      <td>0</td>\n",
       "    </tr>\n",
       "    <tr>\n",
       "      <td>8</td>\n",
       "      <td>5</td>\n",
       "      <td>20</td>\n",
       "      <td>5</td>\n",
       "      <td>10</td>\n",
       "      <td>0</td>\n",
       "    </tr>\n",
       "    <tr>\n",
       "      <td>9</td>\n",
       "      <td>5</td>\n",
       "      <td>32</td>\n",
       "      <td>3</td>\n",
       "      <td>5</td>\n",
       "      <td>0</td>\n",
       "    </tr>\n",
       "    <tr>\n",
       "      <td>10</td>\n",
       "      <td>5</td>\n",
       "      <td>32</td>\n",
       "      <td>3</td>\n",
       "      <td>7</td>\n",
       "      <td>0</td>\n",
       "    </tr>\n",
       "    <tr>\n",
       "      <td>11</td>\n",
       "      <td>5</td>\n",
       "      <td>32</td>\n",
       "      <td>3</td>\n",
       "      <td>10</td>\n",
       "      <td>0</td>\n",
       "    </tr>\n",
       "    <tr>\n",
       "      <td>12</td>\n",
       "      <td>5</td>\n",
       "      <td>32</td>\n",
       "      <td>4</td>\n",
       "      <td>5</td>\n",
       "      <td>0</td>\n",
       "    </tr>\n",
       "    <tr>\n",
       "      <td>13</td>\n",
       "      <td>5</td>\n",
       "      <td>32</td>\n",
       "      <td>4</td>\n",
       "      <td>7</td>\n",
       "      <td>0</td>\n",
       "    </tr>\n",
       "    <tr>\n",
       "      <td>14</td>\n",
       "      <td>5</td>\n",
       "      <td>32</td>\n",
       "      <td>4</td>\n",
       "      <td>10</td>\n",
       "      <td>0</td>\n",
       "    </tr>\n",
       "    <tr>\n",
       "      <td>15</td>\n",
       "      <td>5</td>\n",
       "      <td>32</td>\n",
       "      <td>5</td>\n",
       "      <td>5</td>\n",
       "      <td>0</td>\n",
       "    </tr>\n",
       "    <tr>\n",
       "      <td>16</td>\n",
       "      <td>5</td>\n",
       "      <td>32</td>\n",
       "      <td>5</td>\n",
       "      <td>7</td>\n",
       "      <td>0</td>\n",
       "    </tr>\n",
       "    <tr>\n",
       "      <td>17</td>\n",
       "      <td>5</td>\n",
       "      <td>32</td>\n",
       "      <td>5</td>\n",
       "      <td>10</td>\n",
       "      <td>0</td>\n",
       "    </tr>\n",
       "    <tr>\n",
       "      <td>18</td>\n",
       "      <td>10</td>\n",
       "      <td>20</td>\n",
       "      <td>3</td>\n",
       "      <td>5</td>\n",
       "      <td>0</td>\n",
       "    </tr>\n",
       "    <tr>\n",
       "      <td>19</td>\n",
       "      <td>10</td>\n",
       "      <td>20</td>\n",
       "      <td>3</td>\n",
       "      <td>7</td>\n",
       "      <td>0</td>\n",
       "    </tr>\n",
       "    <tr>\n",
       "      <td>20</td>\n",
       "      <td>10</td>\n",
       "      <td>20</td>\n",
       "      <td>3</td>\n",
       "      <td>10</td>\n",
       "      <td>0</td>\n",
       "    </tr>\n",
       "    <tr>\n",
       "      <td>21</td>\n",
       "      <td>10</td>\n",
       "      <td>20</td>\n",
       "      <td>4</td>\n",
       "      <td>5</td>\n",
       "      <td>0</td>\n",
       "    </tr>\n",
       "    <tr>\n",
       "      <td>22</td>\n",
       "      <td>10</td>\n",
       "      <td>20</td>\n",
       "      <td>4</td>\n",
       "      <td>7</td>\n",
       "      <td>0</td>\n",
       "    </tr>\n",
       "    <tr>\n",
       "      <td>23</td>\n",
       "      <td>10</td>\n",
       "      <td>20</td>\n",
       "      <td>4</td>\n",
       "      <td>10</td>\n",
       "      <td>0</td>\n",
       "    </tr>\n",
       "    <tr>\n",
       "      <td>24</td>\n",
       "      <td>10</td>\n",
       "      <td>20</td>\n",
       "      <td>5</td>\n",
       "      <td>5</td>\n",
       "      <td>0</td>\n",
       "    </tr>\n",
       "    <tr>\n",
       "      <td>25</td>\n",
       "      <td>10</td>\n",
       "      <td>20</td>\n",
       "      <td>5</td>\n",
       "      <td>7</td>\n",
       "      <td>0</td>\n",
       "    </tr>\n",
       "    <tr>\n",
       "      <td>26</td>\n",
       "      <td>10</td>\n",
       "      <td>20</td>\n",
       "      <td>5</td>\n",
       "      <td>10</td>\n",
       "      <td>0</td>\n",
       "    </tr>\n",
       "    <tr>\n",
       "      <td>27</td>\n",
       "      <td>10</td>\n",
       "      <td>32</td>\n",
       "      <td>3</td>\n",
       "      <td>5</td>\n",
       "      <td>0</td>\n",
       "    </tr>\n",
       "    <tr>\n",
       "      <td>28</td>\n",
       "      <td>10</td>\n",
       "      <td>32</td>\n",
       "      <td>3</td>\n",
       "      <td>7</td>\n",
       "      <td>0</td>\n",
       "    </tr>\n",
       "    <tr>\n",
       "      <td>29</td>\n",
       "      <td>10</td>\n",
       "      <td>32</td>\n",
       "      <td>3</td>\n",
       "      <td>10</td>\n",
       "      <td>0</td>\n",
       "    </tr>\n",
       "    <tr>\n",
       "      <td>30</td>\n",
       "      <td>10</td>\n",
       "      <td>32</td>\n",
       "      <td>4</td>\n",
       "      <td>5</td>\n",
       "      <td>0</td>\n",
       "    </tr>\n",
       "    <tr>\n",
       "      <td>31</td>\n",
       "      <td>10</td>\n",
       "      <td>32</td>\n",
       "      <td>4</td>\n",
       "      <td>7</td>\n",
       "      <td>0</td>\n",
       "    </tr>\n",
       "    <tr>\n",
       "      <td>32</td>\n",
       "      <td>10</td>\n",
       "      <td>32</td>\n",
       "      <td>4</td>\n",
       "      <td>10</td>\n",
       "      <td>0</td>\n",
       "    </tr>\n",
       "    <tr>\n",
       "      <td>33</td>\n",
       "      <td>10</td>\n",
       "      <td>32</td>\n",
       "      <td>5</td>\n",
       "      <td>5</td>\n",
       "      <td>0</td>\n",
       "    </tr>\n",
       "    <tr>\n",
       "      <td>34</td>\n",
       "      <td>10</td>\n",
       "      <td>32</td>\n",
       "      <td>5</td>\n",
       "      <td>7</td>\n",
       "      <td>0</td>\n",
       "    </tr>\n",
       "    <tr>\n",
       "      <td>35</td>\n",
       "      <td>10</td>\n",
       "      <td>32</td>\n",
       "      <td>5</td>\n",
       "      <td>10</td>\n",
       "      <td>0</td>\n",
       "    </tr>\n",
       "  </tbody>\n",
       "</table>\n",
       "</div>"
      ],
      "text/plain": [
       "    WINDOW  SIZE  MIN_COUNT  NEGATIVE  hit_rate\n",
       "0        5    20          3         5         0\n",
       "1        5    20          3         7         0\n",
       "2        5    20          3        10         0\n",
       "3        5    20          4         5         0\n",
       "4        5    20          4         7         0\n",
       "5        5    20          4        10         0\n",
       "6        5    20          5         5         0\n",
       "7        5    20          5         7         0\n",
       "8        5    20          5        10         0\n",
       "9        5    32          3         5         0\n",
       "10       5    32          3         7         0\n",
       "11       5    32          3        10         0\n",
       "12       5    32          4         5         0\n",
       "13       5    32          4         7         0\n",
       "14       5    32          4        10         0\n",
       "15       5    32          5         5         0\n",
       "16       5    32          5         7         0\n",
       "17       5    32          5        10         0\n",
       "18      10    20          3         5         0\n",
       "19      10    20          3         7         0\n",
       "20      10    20          3        10         0\n",
       "21      10    20          4         5         0\n",
       "22      10    20          4         7         0\n",
       "23      10    20          4        10         0\n",
       "24      10    20          5         5         0\n",
       "25      10    20          5         7         0\n",
       "26      10    20          5        10         0\n",
       "27      10    32          3         5         0\n",
       "28      10    32          3         7         0\n",
       "29      10    32          3        10         0\n",
       "30      10    32          4         5         0\n",
       "31      10    32          4         7         0\n",
       "32      10    32          4        10         0\n",
       "33      10    32          5         5         0\n",
       "34      10    32          5         7         0\n",
       "35      10    32          5        10         0"
      ]
     },
     "execution_count": 53,
     "metadata": {},
     "output_type": "execute_result"
    }
   ],
   "source": [
    "# hyperparameters and performance\n",
    "\n",
    "def cartesian_product(d):\n",
    "    index = pd.MultiIndex.from_product(d.values(), names=d.keys())\n",
    "    return pd.DataFrame(index=index).reset_index()\n",
    "\n",
    "# hyperparam_dict = {'WINDOW': [3,5, 10], \n",
    "#                    'SIZE': [50, 75, 100, 150],\n",
    "#                    'MIN_COUNT': [3, 4, 5],\n",
    "#                    'NEGATIVE': [5, 10],\n",
    "#                    'TOP_N_for_predict': [5, 10, 20]}\n",
    "\n",
    "hyperparam_dict = {'WINDOW': [5, 10], \n",
    "                   'SIZE': [20, 32],\n",
    "                   'MIN_COUNT': [3, 4, 5],\n",
    "                   'NEGATIVE': [5, 7, 10]}\n",
    "#                    'TOP_N_for_predict': [5, 10, 20]}\n",
    "\n",
    "evaluation_df = cartesian_product(hyperparam_dict)\n",
    "evaluation_df['hit_rate'] = 0\n",
    "evaluation_df"
   ]
  },
  {
   "cell_type": "code",
   "execution_count": 54,
   "metadata": {},
   "outputs": [],
   "source": [
    "hit_rate_df = pd.concat([train_seq_df, test_seq_df], axis=1,\n",
    "                        join='inner').copy()\n",
    "\n",
    "hit_rate_df.columns = ['train_seq', 'test_seq']\n",
    "hit_rate_df['hit'] = 'F'\n",
    "hit_rate_df['next_item'] = ''\n",
    "hit_rate_df['predictions'] = ''\n"
   ]
  },
  {
   "cell_type": "code",
   "execution_count": 55,
   "metadata": {},
   "outputs": [],
   "source": [
    "def evaluate(model):   \n",
    "    hit_rate_df['hit'] = 'F'\n",
    "    hit_rate_df['next_item'] = ''\n",
    "    hit_rate_df['predictions'] = ''\n",
    "    # user_history_size and N are hyperparamteres\n",
    "    user_history_size = 10 # past interactions we average to represent a user in our vector spece\n",
    "    N = 20 # size of prediction in hitrate@N\n",
    "    debug_users = []\n",
    "    for index, row in hit_rate_df.iterrows():\n",
    "        next_item =  row['test_seq'][0]\n",
    "        row['next_item'] =  next_item\n",
    "        agg_size = min(len(row['train_seq']), user_history_size)\n",
    "        user_vec =  aggregate_vectors(model, row['train_seq'][-agg_size:])\n",
    "        try:\n",
    "            ms = model.similar_by_vector(user_vec, topn= N)\n",
    "        except TypeError:\n",
    "            debug_users.append(index)\n",
    "            pass\n",
    "\n",
    "    #     ms = model.similar_by_vector(user_vec, topn= N)\n",
    "        predictions = [item[0] for item in ms]\n",
    "        row['predictions'] = predictions\n",
    "        if next_item in predictions:\n",
    "            row.hit = 'T'\n",
    "            \n",
    "    num_F_hits = hit_rate_df[hit_rate_df.hit == 'F'].shape[0]\n",
    "    num_T_hits = hit_rate_df[hit_rate_df.hit == 'T'].shape[0]\n",
    "    hit_rate = num_T_hits/(num_T_hits + num_F_hits)\n",
    "    print(f'# of True hits {num_T_hits}, out of {num_T_hits + num_F_hits}, hit rate is {hit_rate:.4f}')\n",
    "    return hit_rate\n"
   ]
  },
  {
   "cell_type": "code",
   "execution_count": 56,
   "metadata": {
    "scrolled": false
   },
   "outputs": [
    {
     "name": "stdout",
     "output_type": "stream",
     "text": [
      "Word2Vec(vocab=10715, size=20, alpha=0.01)\n",
      "# of True hits 3298, out of 53273, hit rate is 0.0619\n",
      "Word2Vec(vocab=10715, size=20, alpha=0.01)\n",
      "# of True hits 3283, out of 53273, hit rate is 0.0616\n",
      "Word2Vec(vocab=10715, size=20, alpha=0.01)\n",
      "# of True hits 3266, out of 53273, hit rate is 0.0613\n",
      "Word2Vec(vocab=10355, size=20, alpha=0.01)\n",
      "# of True hits 3299, out of 53273, hit rate is 0.0619\n",
      "Word2Vec(vocab=10355, size=20, alpha=0.01)\n",
      "# of True hits 3293, out of 53273, hit rate is 0.0618\n",
      "Word2Vec(vocab=10355, size=20, alpha=0.01)\n",
      "# of True hits 3268, out of 53273, hit rate is 0.0613\n",
      "Word2Vec(vocab=10064, size=20, alpha=0.01)\n",
      "# of True hits 3290, out of 53273, hit rate is 0.0618\n",
      "Word2Vec(vocab=10064, size=20, alpha=0.01)\n",
      "# of True hits 3299, out of 53273, hit rate is 0.0619\n",
      "Word2Vec(vocab=10064, size=20, alpha=0.01)\n",
      "# of True hits 3230, out of 53273, hit rate is 0.0606\n",
      "Word2Vec(vocab=10715, size=32, alpha=0.01)\n",
      "# of True hits 3317, out of 53273, hit rate is 0.0623\n",
      "Word2Vec(vocab=10715, size=32, alpha=0.01)\n",
      "# of True hits 3318, out of 53273, hit rate is 0.0623\n",
      "Word2Vec(vocab=10715, size=32, alpha=0.01)\n",
      "# of True hits 3291, out of 53273, hit rate is 0.0618\n",
      "Word2Vec(vocab=10355, size=32, alpha=0.01)\n",
      "# of True hits 3323, out of 53273, hit rate is 0.0624\n",
      "Word2Vec(vocab=10355, size=32, alpha=0.01)\n",
      "# of True hits 3337, out of 53273, hit rate is 0.0626\n",
      "Word2Vec(vocab=10355, size=32, alpha=0.01)\n",
      "# of True hits 3289, out of 53273, hit rate is 0.0617\n",
      "Word2Vec(vocab=10064, size=32, alpha=0.01)\n",
      "# of True hits 3300, out of 53273, hit rate is 0.0619\n",
      "Word2Vec(vocab=10064, size=32, alpha=0.01)\n",
      "# of True hits 3290, out of 53273, hit rate is 0.0618\n",
      "Word2Vec(vocab=10064, size=32, alpha=0.01)\n",
      "# of True hits 3292, out of 53273, hit rate is 0.0618\n",
      "Word2Vec(vocab=10715, size=20, alpha=0.01)\n",
      "# of True hits 3320, out of 53273, hit rate is 0.0623\n",
      "Word2Vec(vocab=10715, size=20, alpha=0.01)\n",
      "# of True hits 3335, out of 53273, hit rate is 0.0626\n",
      "Word2Vec(vocab=10715, size=20, alpha=0.01)\n",
      "# of True hits 3311, out of 53273, hit rate is 0.0622\n",
      "Word2Vec(vocab=10355, size=20, alpha=0.01)\n",
      "# of True hits 3331, out of 53273, hit rate is 0.0625\n",
      "Word2Vec(vocab=10355, size=20, alpha=0.01)\n",
      "# of True hits 3352, out of 53273, hit rate is 0.0629\n",
      "Word2Vec(vocab=10355, size=20, alpha=0.01)\n",
      "# of True hits 3346, out of 53273, hit rate is 0.0628\n",
      "Word2Vec(vocab=10064, size=20, alpha=0.01)\n",
      "# of True hits 3354, out of 53273, hit rate is 0.0630\n",
      "Word2Vec(vocab=10064, size=20, alpha=0.01)\n",
      "# of True hits 3335, out of 53273, hit rate is 0.0626\n",
      "Word2Vec(vocab=10064, size=20, alpha=0.01)\n",
      "# of True hits 3349, out of 53273, hit rate is 0.0629\n",
      "Word2Vec(vocab=10715, size=32, alpha=0.01)\n",
      "# of True hits 3441, out of 53273, hit rate is 0.0646\n",
      "Word2Vec(vocab=10715, size=32, alpha=0.01)\n",
      "# of True hits 3441, out of 53273, hit rate is 0.0646\n",
      "Word2Vec(vocab=10715, size=32, alpha=0.01)\n",
      "# of True hits 3459, out of 53273, hit rate is 0.0649\n",
      "Word2Vec(vocab=10355, size=32, alpha=0.01)\n",
      "# of True hits 3425, out of 53273, hit rate is 0.0643\n",
      "Word2Vec(vocab=10355, size=32, alpha=0.01)\n",
      "# of True hits 3459, out of 53273, hit rate is 0.0649\n",
      "Word2Vec(vocab=10355, size=32, alpha=0.01)\n",
      "# of True hits 3457, out of 53273, hit rate is 0.0649\n",
      "Word2Vec(vocab=10064, size=32, alpha=0.01)\n",
      "# of True hits 3450, out of 53273, hit rate is 0.0648\n",
      "Word2Vec(vocab=10064, size=32, alpha=0.01)\n",
      "# of True hits 3497, out of 53273, hit rate is 0.0656\n",
      "Word2Vec(vocab=10064, size=32, alpha=0.01)\n",
      "# of True hits 3495, out of 53273, hit rate is 0.0656\n"
     ]
    }
   ],
   "source": [
    "for index, row in evaluation_df.iterrows():\n",
    "    WINDOW = row['WINDOW']\n",
    "    SIZE = row['SIZE']\n",
    "    MIN_COUNT = row['MIN_COUNT']\n",
    "    NEGATIVE = row['NEGATIVE']\n",
    "\n",
    "    cur_model = Word2Vec(window = WINDOW, size= SIZE, sg = 1, min_count = MIN_COUNT,\n",
    "                     hs = 0, negative = NEGATIVE, # for negative sampling\n",
    "                     alpha=0.01, min_alpha=0.0007,\n",
    "                     seed = 42, workers = 4)\n",
    "    \n",
    "#     verbose_dict.update({'window': WINDOW, 'size': SIZE, 'min_count': MIN_COUNT,'negative': NEGATIVE}) \n",
    "    \n",
    "    cur_model.build_vocab(train_sequences, progress_per=1000)\n",
    "    cur_model.train(train_sequences, total_examples = cur_model.corpus_count, \n",
    "            epochs=10, report_delay=1)\n",
    "    cur_model.init_sims(replace=True)\n",
    "    print(cur_model)\n",
    "#     print(verbose_dict)\n",
    "    cur_hitrate = evaluate(cur_model)\n",
    "    evaluation_df.ix[index,'hit_rate'] = cur_hitrate\n"
   ]
  },
  {
   "cell_type": "code",
   "execution_count": 57,
   "metadata": {},
   "outputs": [
    {
     "name": "stdout",
     "output_type": "stream",
     "text": [
      "highest 10 hitrates:\n",
      "     WINDOW  SIZE  MIN_COUNT  NEGATIVE  hit_rate\n",
      "34      10    32          5         7  0.065643\n",
      "35      10    32          5        10  0.065605\n",
      "29      10    32          3        10  0.064930\n",
      "31      10    32          4         7  0.064930\n",
      "32      10    32          4        10  0.064892\n",
      "33      10    32          5         5  0.064761\n",
      "28      10    32          3         7  0.064592\n",
      "27      10    32          3         5  0.064592\n",
      "30      10    32          4         5  0.064291\n",
      "24      10    20          5         5  0.062959, \n",
      "lowest 10 hitrates:\n",
      "     WINDOW  SIZE  MIN_COUNT  NEGATIVE  hit_rate\n",
      "4        5    20          4         7  0.061814\n",
      "17       5    32          5        10  0.061795\n",
      "11       5    32          3        10  0.061776\n",
      "16       5    32          5         7  0.061757\n",
      "6        5    20          5         5  0.061757\n",
      "14       5    32          4        10  0.061739\n",
      "1        5    20          3         7  0.061626\n",
      "5        5    20          4        10  0.061344\n",
      "2        5    20          3        10  0.061307\n",
      "8        5    20          5        10  0.060631\n"
     ]
    }
   ],
   "source": [
    "evaluation_df.to_csv('hit_rate_hist10_top20_smaller_size.csv', index=False)\n",
    "evaluation_df.sort_values('hit_rate', ascending=False, inplace = True)\n",
    "print(f'highest 10 hitrates:\\n {evaluation_df.head(10)}, \\nlowest 10 hitrates:\\n {evaluation_df.tail(10)}') "
   ]
  },
  {
   "cell_type": "code",
   "execution_count": 55,
   "metadata": {},
   "outputs": [],
   "source": [
    "# hit_rate_df"
   ]
  },
  {
   "cell_type": "code",
   "execution_count": 58,
   "metadata": {},
   "outputs": [
    {
     "ename": "NameError",
     "evalue": "name 'debug_users' is not defined",
     "output_type": "error",
     "traceback": [
      "\u001b[0;31m---------------------------------------------------------------------------\u001b[0m",
      "\u001b[0;31mNameError\u001b[0m                                 Traceback (most recent call last)",
      "\u001b[0;32m<ipython-input-58-63a80dbd957c>\u001b[0m in \u001b[0;36m<module>\u001b[0;34m\u001b[0m\n\u001b[0;32m----> 1\u001b[0;31m \u001b[0mdebug_users\u001b[0m\u001b[0;34m\u001b[0m\u001b[0;34m\u001b[0m\u001b[0m\n\u001b[0m",
      "\u001b[0;31mNameError\u001b[0m: name 'debug_users' is not defined"
     ]
    }
   ],
   "source": [
    "debug_users"
   ]
  },
  {
   "cell_type": "code",
   "execution_count": 213,
   "metadata": {},
   "outputs": [
    {
     "data": {
      "text/html": [
       "<div>\n",
       "<style scoped>\n",
       "    .dataframe tbody tr th:only-of-type {\n",
       "        vertical-align: middle;\n",
       "    }\n",
       "\n",
       "    .dataframe tbody tr th {\n",
       "        vertical-align: top;\n",
       "    }\n",
       "\n",
       "    .dataframe thead th {\n",
       "        text-align: right;\n",
       "    }\n",
       "</style>\n",
       "<table border=\"1\" class=\"dataframe\">\n",
       "  <thead>\n",
       "    <tr style=\"text-align: right;\">\n",
       "      <th></th>\n",
       "      <th>train_seq</th>\n",
       "      <th>test_seq</th>\n",
       "      <th>hit</th>\n",
       "      <th>next_item</th>\n",
       "      <th>predictions</th>\n",
       "    </tr>\n",
       "    <tr>\n",
       "      <th>dyid</th>\n",
       "      <th></th>\n",
       "      <th></th>\n",
       "      <th></th>\n",
       "      <th></th>\n",
       "      <th></th>\n",
       "    </tr>\n",
       "  </thead>\n",
       "  <tbody>\n",
       "    <tr>\n",
       "      <td>-9218868233890367239</td>\n",
       "      <td>[10702]</td>\n",
       "      <td>[25645]</td>\n",
       "      <td>T</td>\n",
       "      <td>25645</td>\n",
       "      <td>[10702, 211186, 10704, 10703, 10701, 10707, 10...</td>\n",
       "    </tr>\n",
       "    <tr>\n",
       "      <td>-9209861056004494361</td>\n",
       "      <td>[14866, 14910]</td>\n",
       "      <td>[14869, 32090]</td>\n",
       "      <td>T</td>\n",
       "      <td>14869</td>\n",
       "      <td>[14910, 14866, 14909, 14868, 14907, 14905, 148...</td>\n",
       "    </tr>\n",
       "    <tr>\n",
       "      <td>-9200853603369006798</td>\n",
       "      <td>[216237, 193930, 217042, 216248, 217519, 21706...</td>\n",
       "      <td>[217043]</td>\n",
       "      <td>T</td>\n",
       "      <td>217043</td>\n",
       "      <td>[217063, 217519, 217066, 217042, 217041, 21682...</td>\n",
       "    </tr>\n",
       "    <tr>\n",
       "      <td>-9200853534635226107</td>\n",
       "      <td>[206606]</td>\n",
       "      <td>[19309, 198857, 199003, 194085]</td>\n",
       "      <td>T</td>\n",
       "      <td>19309</td>\n",
       "      <td>[206606, 19308, 206620, 206618, 21575, 206628,...</td>\n",
       "    </tr>\n",
       "    <tr>\n",
       "      <td>-9196350119748549556</td>\n",
       "      <td>[202818]</td>\n",
       "      <td>[208675]</td>\n",
       "      <td>T</td>\n",
       "      <td>208675</td>\n",
       "      <td>[202818, 211594, 208675, 211591, 208674, 21159...</td>\n",
       "    </tr>\n",
       "    <tr>\n",
       "      <td>...</td>\n",
       "      <td>...</td>\n",
       "      <td>...</td>\n",
       "      <td>...</td>\n",
       "      <td>...</td>\n",
       "      <td>...</td>\n",
       "    </tr>\n",
       "    <tr>\n",
       "      <td>9182840092695934717</td>\n",
       "      <td>[16656, 14554]</td>\n",
       "      <td>[14554, 32892, 32702]</td>\n",
       "      <td>T</td>\n",
       "      <td>14554</td>\n",
       "      <td>[16656, 14554, 33098, 4358, 16655, 14534, 1666...</td>\n",
       "    </tr>\n",
       "    <tr>\n",
       "      <td>9196350754169750472</td>\n",
       "      <td>[202818, 211594]</td>\n",
       "      <td>[211591]</td>\n",
       "      <td>T</td>\n",
       "      <td>211591</td>\n",
       "      <td>[211594, 202818, 211591, 208675, 211593, 21159...</td>\n",
       "    </tr>\n",
       "    <tr>\n",
       "      <td>9196350831497754970</td>\n",
       "      <td>[34994, 199742]</td>\n",
       "      <td>[210390, 16685, 26003, 23383, 27952, 27954, 32...</td>\n",
       "      <td>T</td>\n",
       "      <td>210390</td>\n",
       "      <td>[199742, 34994, 192793, 26003, 33738, 21551, 2...</td>\n",
       "    </tr>\n",
       "    <tr>\n",
       "      <td>9205357936228101491</td>\n",
       "      <td>[14537]</td>\n",
       "      <td>[14527]</td>\n",
       "      <td>T</td>\n",
       "      <td>14527</td>\n",
       "      <td>[14537, 210583, 14527, 34607, 14542, 14539, 14...</td>\n",
       "    </tr>\n",
       "    <tr>\n",
       "      <td>9214365384640467451</td>\n",
       "      <td>[198454, 216682]</td>\n",
       "      <td>[216683, 206599]</td>\n",
       "      <td>T</td>\n",
       "      <td>216683</td>\n",
       "      <td>[198454, 216682, 206601, 206600, 216683, 20660...</td>\n",
       "    </tr>\n",
       "  </tbody>\n",
       "</table>\n",
       "<p>2653 rows × 5 columns</p>\n",
       "</div>"
      ],
      "text/plain": [
       "                                                              train_seq  \\\n",
       "dyid                                                                      \n",
       "-9218868233890367239                                            [10702]   \n",
       "-9209861056004494361                                     [14866, 14910]   \n",
       "-9200853603369006798  [216237, 193930, 217042, 216248, 217519, 21706...   \n",
       "-9200853534635226107                                           [206606]   \n",
       "-9196350119748549556                                           [202818]   \n",
       "...                                                                 ...   \n",
       " 9182840092695934717                                     [16656, 14554]   \n",
       " 9196350754169750472                                   [202818, 211594]   \n",
       " 9196350831497754970                                    [34994, 199742]   \n",
       " 9205357936228101491                                            [14537]   \n",
       " 9214365384640467451                                   [198454, 216682]   \n",
       "\n",
       "                                                               test_seq hit  \\\n",
       "dyid                                                                          \n",
       "-9218868233890367239                                            [25645]   T   \n",
       "-9209861056004494361                                     [14869, 32090]   T   \n",
       "-9200853603369006798                                           [217043]   T   \n",
       "-9200853534635226107                    [19309, 198857, 199003, 194085]   T   \n",
       "-9196350119748549556                                           [208675]   T   \n",
       "...                                                                 ...  ..   \n",
       " 9182840092695934717                              [14554, 32892, 32702]   T   \n",
       " 9196350754169750472                                           [211591]   T   \n",
       " 9196350831497754970  [210390, 16685, 26003, 23383, 27952, 27954, 32...   T   \n",
       " 9205357936228101491                                            [14527]   T   \n",
       " 9214365384640467451                                   [216683, 206599]   T   \n",
       "\n",
       "                     next_item  \\\n",
       "dyid                             \n",
       "-9218868233890367239     25645   \n",
       "-9209861056004494361     14869   \n",
       "-9200853603369006798    217043   \n",
       "-9200853534635226107     19309   \n",
       "-9196350119748549556    208675   \n",
       "...                        ...   \n",
       " 9182840092695934717     14554   \n",
       " 9196350754169750472    211591   \n",
       " 9196350831497754970    210390   \n",
       " 9205357936228101491     14527   \n",
       " 9214365384640467451    216683   \n",
       "\n",
       "                                                            predictions  \n",
       "dyid                                                                     \n",
       "-9218868233890367239  [10702, 211186, 10704, 10703, 10701, 10707, 10...  \n",
       "-9209861056004494361  [14910, 14866, 14909, 14868, 14907, 14905, 148...  \n",
       "-9200853603369006798  [217063, 217519, 217066, 217042, 217041, 21682...  \n",
       "-9200853534635226107  [206606, 19308, 206620, 206618, 21575, 206628,...  \n",
       "-9196350119748549556  [202818, 211594, 208675, 211591, 208674, 21159...  \n",
       "...                                                                 ...  \n",
       " 9182840092695934717  [16656, 14554, 33098, 4358, 16655, 14534, 1666...  \n",
       " 9196350754169750472  [211594, 202818, 211591, 208675, 211593, 21159...  \n",
       " 9196350831497754970  [199742, 34994, 192793, 26003, 33738, 21551, 2...  \n",
       " 9205357936228101491  [14537, 210583, 14527, 34607, 14542, 14539, 14...  \n",
       " 9214365384640467451  [198454, 216682, 206601, 206600, 216683, 20660...  \n",
       "\n",
       "[2653 rows x 5 columns]"
      ]
     },
     "execution_count": 213,
     "metadata": {},
     "output_type": "execute_result"
    }
   ],
   "source": [
    "hit_rate_df[hit_rate_df.hit == 'T']"
   ]
  },
  {
   "cell_type": "code",
   "execution_count": 215,
   "metadata": {},
   "outputs": [
    {
     "data": {
      "text/html": [
       "<div>\n",
       "<style scoped>\n",
       "    .dataframe tbody tr th:only-of-type {\n",
       "        vertical-align: middle;\n",
       "    }\n",
       "\n",
       "    .dataframe tbody tr th {\n",
       "        vertical-align: top;\n",
       "    }\n",
       "\n",
       "    .dataframe thead th {\n",
       "        text-align: right;\n",
       "    }\n",
       "</style>\n",
       "<table border=\"1\" class=\"dataframe\">\n",
       "  <thead>\n",
       "    <tr style=\"text-align: right;\">\n",
       "      <th></th>\n",
       "      <th>sku</th>\n",
       "      <th>dyid</th>\n",
       "      <th>timestamp</th>\n",
       "      <th>groupid</th>\n",
       "    </tr>\n",
       "  </thead>\n",
       "  <tbody>\n",
       "    <tr>\n",
       "      <td>6321655</td>\n",
       "      <td>27818</td>\n",
       "      <td>3179541484524774784</td>\n",
       "      <td>2019-10-29 02:36:01.192</td>\n",
       "      <td>12812</td>\n",
       "    </tr>\n",
       "    <tr>\n",
       "      <td>6321569</td>\n",
       "      <td>201227</td>\n",
       "      <td>3179541484524774784</td>\n",
       "      <td>2019-10-29 02:36:29.495</td>\n",
       "      <td>20234</td>\n",
       "    </tr>\n",
       "    <tr>\n",
       "      <td>3762240</td>\n",
       "      <td>35422</td>\n",
       "      <td>3179541484524774784</td>\n",
       "      <td>2019-12-08 14:54:05.486</td>\n",
       "      <td>15491</td>\n",
       "    </tr>\n",
       "    <tr>\n",
       "      <td>794885</td>\n",
       "      <td>26348</td>\n",
       "      <td>3179541484524774784</td>\n",
       "      <td>2020-02-05 13:23:52.559</td>\n",
       "      <td>13034</td>\n",
       "    </tr>\n",
       "    <tr>\n",
       "      <td>769880</td>\n",
       "      <td>209896</td>\n",
       "      <td>3179541484524774784</td>\n",
       "      <td>2020-02-06 06:51:58.073</td>\n",
       "      <td>20757</td>\n",
       "    </tr>\n",
       "  </tbody>\n",
       "</table>\n",
       "</div>"
      ],
      "text/plain": [
       "            sku                 dyid               timestamp  groupid\n",
       "6321655   27818  3179541484524774784 2019-10-29 02:36:01.192    12812\n",
       "6321569  201227  3179541484524774784 2019-10-29 02:36:29.495    20234\n",
       "3762240   35422  3179541484524774784 2019-12-08 14:54:05.486    15491\n",
       "794885    26348  3179541484524774784 2020-02-05 13:23:52.559    13034\n",
       "769880   209896  3179541484524774784 2020-02-06 06:51:58.073    20757"
      ]
     },
     "execution_count": 215,
     "metadata": {},
     "output_type": "execute_result"
    }
   ],
   "source": [
    "df_raw[df_raw[userID] == 3179541484524774784].sort_values(timestamp)"
   ]
  },
  {
   "cell_type": "code",
   "execution_count": 1306,
   "metadata": {},
   "outputs": [
    {
     "data": {
      "text/plain": [
       "sku            object\n",
       "name           object\n",
       "url            object\n",
       "price         float64\n",
       "in_stock       object\n",
       "image_url      object\n",
       "categories     object\n",
       "dtype: object"
      ]
     },
     "execution_count": 1306,
     "metadata": {},
     "output_type": "execute_result"
    }
   ],
   "source": [
    "feed_df.dtypes"
   ]
  },
  {
   "cell_type": "code",
   "execution_count": 1148,
   "metadata": {},
   "outputs": [
    {
     "data": {
      "text/html": [
       "<div>\n",
       "<style scoped>\n",
       "    .dataframe tbody tr th:only-of-type {\n",
       "        vertical-align: middle;\n",
       "    }\n",
       "\n",
       "    .dataframe tbody tr th {\n",
       "        vertical-align: top;\n",
       "    }\n",
       "\n",
       "    .dataframe thead th {\n",
       "        text-align: right;\n",
       "    }\n",
       "</style>\n",
       "<table border=\"1\" class=\"dataframe\">\n",
       "  <thead>\n",
       "    <tr style=\"text-align: right;\">\n",
       "      <th></th>\n",
       "      <th>sku</th>\n",
       "      <th>name</th>\n",
       "      <th>url</th>\n",
       "      <th>price</th>\n",
       "      <th>in_stock</th>\n",
       "      <th>image_url</th>\n",
       "      <th>categories</th>\n",
       "    </tr>\n",
       "  </thead>\n",
       "  <tbody>\n",
       "    <tr>\n",
       "      <td>6793</td>\n",
       "      <td>35167</td>\n",
       "      <td>Gloss Bomb Universal Lip Luminizer</td>\n",
       "      <td>https://www.sephora.com.au/products/fenty-glos...</td>\n",
       "      <td>31.0</td>\n",
       "      <td>True</td>\n",
       "      <td>https://static-reg.lximg.com/images/product_im...</td>\n",
       "      <td>makeup|lips|lip-gloss|fenty-beauty</td>\n",
       "    </tr>\n",
       "  </tbody>\n",
       "</table>\n",
       "</div>"
      ],
      "text/plain": [
       "        sku                                name  \\\n",
       "6793  35167  Gloss Bomb Universal Lip Luminizer   \n",
       "\n",
       "                                                    url  price in_stock  \\\n",
       "6793  https://www.sephora.com.au/products/fenty-glos...   31.0     True   \n",
       "\n",
       "                                              image_url  \\\n",
       "6793  https://static-reg.lximg.com/images/product_im...   \n",
       "\n",
       "                              categories  \n",
       "6793  makeup|lips|lip-gloss|fenty-beauty  "
      ]
     },
     "execution_count": 1148,
     "metadata": {},
     "output_type": "execute_result"
    }
   ],
   "source": [
    "feed_df[feed_df.sku == str(35167)]"
   ]
  },
  {
   "cell_type": "code",
   "execution_count": 1307,
   "metadata": {},
   "outputs": [],
   "source": [
    "# def hitrate(topNpredictions,leftoutpredictions):\n",
    "#     hits=0\n",
    "#     total=0\n",
    "    \n",
    "#     for idx in leftoutpredictions[0]:\n",
    "#         leftout_item = leftoutpredictions[idx]\n",
    "#         hit=false\n",
    "#         for predicted_item in topNpredictions[int(idx)]:\n",
    "#             if(int(predicted_item) == int(leftout_item)):\n",
    "#                 hit=true\n",
    "#         if(hit):\n",
    "#             hits+=1\n",
    "#         total+=1 \n",
    "    \n",
    "#     return hits/total \n"
   ]
  },
  {
   "cell_type": "code",
   "execution_count": 1317,
   "metadata": {},
   "outputs": [
    {
     "data": {
      "text/plain": [
       "array([-0.10626802, -0.15159248,  0.32469413,  0.14096266, -0.2230771 ,\n",
       "        0.04348353, -0.06565124, -0.04160895,  0.02625739, -0.20727877,\n",
       "       -0.09461012, -0.01887947, -0.07335581,  0.01320098,  0.12879676,\n",
       "        0.20893027, -0.17523567,  0.01896572, -0.07055669, -0.00738071,\n",
       "       -0.2676187 , -0.06309661, -0.18509057,  0.08733634, -0.3110248 ,\n",
       "       -0.02771042, -0.21031463,  0.15098655, -0.20615822,  0.07141002,\n",
       "        0.08479824,  0.02277749,  0.00296612,  0.08712029, -0.1854438 ,\n",
       "        0.1220393 ,  0.2662778 , -0.04701345, -0.13935667,  0.04791201,\n",
       "       -0.00438696,  0.01467129,  0.01002253, -0.15933336,  0.13939139,\n",
       "        0.18421528, -0.214582  , -0.00238174,  0.0920361 , -0.07228963],\n",
       "      dtype=float32)"
      ]
     },
     "execution_count": 1317,
     "metadata": {},
     "output_type": "execute_result"
    }
   ],
   "source": [
    "aggregate_vectors(test_sequences[20119][-10:])"
   ]
  },
  {
   "cell_type": "code",
   "execution_count": null,
   "metadata": {},
   "outputs": [],
   "source": [
    "aggregate_vectors(test_sequences[0])"
   ]
  },
  {
   "cell_type": "code",
   "execution_count": null,
   "metadata": {},
   "outputs": [],
   "source": [
    "test_df.groupby(userID).count().sort_values(by = itemID)"
   ]
  },
  {
   "cell_type": "code",
   "execution_count": null,
   "metadata": {},
   "outputs": [],
   "source": [
    "# similar_items(model['24090']) --> KeyError: '15763'\n",
    "# similar_items(model['16693'])  KeyError: '16695'\n",
    "# similar_items(model['214048']) KeyError: '10845'\n",
    "# 200927  KeyError: '19584'\n",
    "# 32751 KeyError: '16987'\n",
    "# 193458 KeyError: '193455'\n",
    "# 194248 KeyError: '8808'\n",
    "# sampleCode = 16656 KeyError: '33113'\n",
    "# sampleCode = 25826 KeyError: '23378'\n",
    "# sampleCode = 27668 KeyError: '19680'\n",
    "# sampleCode = 207318 KeyError: '25990'\n",
    "\n",
    "# KeyError: \"word '212240' not in vocabulary\"\n",
    "# KeyError: \"word '22423' not in vocabulary\"\n",
    "# KeyError: \"word '208780' not in vocabulary\"\n",
    "# KeyError: \"word '29832' not in vocabulary\"\n",
    "# KeyError: \"word '211977' not in vocabulary\" still\n",
    "# KeyError: \"word '203420' not in vocabulary\"\n",
    "# KeyError: \"word '218742' not in vocabulary\" still\n",
    "  "
   ]
  }
 ],
 "metadata": {
  "kernelspec": {
   "display_name": "Python 3",
   "language": "python",
   "name": "python3"
  },
  "language_info": {
   "codemirror_mode": {
    "name": "ipython",
    "version": 3
   },
   "file_extension": ".py",
   "mimetype": "text/x-python",
   "name": "python",
   "nbconvert_exporter": "python",
   "pygments_lexer": "ipython3",
   "version": "3.7.4"
  }
 },
 "nbformat": 4,
 "nbformat_minor": 2
}
